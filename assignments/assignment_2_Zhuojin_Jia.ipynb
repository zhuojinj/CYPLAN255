{
 "cells": [
  {
   "cell_type": "markdown",
   "metadata": {},
   "source": [
    "# Assignment 2 | Programming Logic\n",
    "\n",
    "Reminder: in all of the assignments this semester, the answer is not the only consideration, but also how you get to it. It's OK (suggested even!) to use the internet for help. But you _should_ be able to answer all of these questions using only the programming techniques you have learned in class and from the readings.\n",
    "\n",
    "A few keys for success:\n",
    "- Avoid manual data entry\n",
    "- Emphasize logic and clarity\n",
    "- Use comments, docstrings, and descriptive variable names\n",
    "- In general, less code is better. But if more lines of code makes your program easier to read or understand what its doing, then go for it."
   ]
  },
  {
   "cell_type": "markdown",
   "metadata": {},
   "source": [
    "## Problem 1 \n",
    "Write a Python program to count the number of even and odd numbers from a list of numbers. Test your code by running it on a list of integers from 1 to 9. No need to make this a function unless you want to."
   ]
  },
  {
   "cell_type": "code",
   "execution_count": 1,
   "metadata": {},
   "outputs": [
    {
     "name": "stdout",
     "output_type": "stream",
     "text": [
      "the number of even is  5\n",
      "the number of odd is  5\n"
     ]
    }
   ],
   "source": [
    "my_list = list(range(10))\n",
    "even = 0\n",
    "odd = 0\n",
    "for i in range(len(my_list)):\n",
    "    if my_list[i] % 2 == 0:\n",
    "        even += 1\n",
    "        i = i+1\n",
    "    else:\n",
    "        odd += 1\n",
    "        i = i+1\n",
    "print(\"the number of even is \",even)\n",
    "print(\"the number of odd is \",odd)"
   ]
  },
  {
   "cell_type": "markdown",
   "metadata": {
    "collapsed": true
   },
   "source": [
    "## Problem 2\n",
    "Write a Python function that takes a list of numbers and returns a list containing only the even numbers from the original list. Test your function by running it on a list of integers from 1 to 9."
   ]
  },
  {
   "cell_type": "code",
   "execution_count": 2,
   "metadata": {},
   "outputs": [
    {
     "name": "stdout",
     "output_type": "stream",
     "text": [
      "[0, 2, 4, 6, 8]\n"
     ]
    }
   ],
   "source": [
    "even_list = []\n",
    "for i in range(len(my_list)):\n",
    "    if my_list[i] % 2 == 0:\n",
    "        even_list.append(my_list[i])\n",
    "        \n",
    "print(even_list)"
   ]
  },
  {
   "cell_type": "markdown",
   "metadata": {},
   "source": [
    "## Problem 3\n",
    "\n",
    "1. Create a function that accepts a list of integers as an argument and returns a list of floats which equals each number as a fraction of the sum of all the items in the original list.\n",
    "\n",
    "2. Next, create a second function which is the same as the first, but limit each number in the output list to two decimals.\n",
    "\n",
    "3. Create another function which builds on the previous one by allowing a \"user\" pass in an argument that defines the number of decimal places to use in the output list.\n",
    "\n",
    "4. Test each of these functions with a list of integers"
   ]
  },
  {
   "cell_type": "code",
   "execution_count": 14,
   "metadata": {},
   "outputs": [
    {
     "data": {
      "text/plain": [
       "[0.0,\n",
       " 0.022222222222222223,\n",
       " 0.044444444444444446,\n",
       " 0.06666666666666667,\n",
       " 0.08888888888888889,\n",
       " 0.1111111111111111,\n",
       " 0.13333333333333333,\n",
       " 0.15555555555555556,\n",
       " 0.17777777777777778,\n",
       " 0.2]"
      ]
     },
     "execution_count": 14,
     "metadata": {},
     "output_type": "execute_result"
    }
   ],
   "source": [
    "#3.1\n",
    "def fraction_list(integers):\n",
    "    fraclist=[]\n",
    "    for i in range(len(integers)):\n",
    "        fraclist.append(integers[i]/sum(integers))\n",
    "    return fraclist\n",
    "fraction_list(my_list)"
   ]
  },
  {
   "cell_type": "code",
   "execution_count": 15,
   "metadata": {},
   "outputs": [
    {
     "data": {
      "text/plain": [
       "[0.0, 0.04, 0.07, 0.11, 0.14, 0.18, 0.21, 0.25]"
      ]
     },
     "execution_count": 15,
     "metadata": {},
     "output_type": "execute_result"
    }
   ],
   "source": [
    "#3.2\n",
    "test = list(range(8))\n",
    "def frac_list(integers):\n",
    "    frac_list = []\n",
    "    frac = []\n",
    "    for i in range(len(integers)):\n",
    "        frac_list.append(integers[i]/sum(integers))\n",
    "    frac = [round(ele,2) for ele in frac_list]\n",
    "    return frac\n",
    "frac_list(test)"
   ]
  },
  {
   "cell_type": "code",
   "execution_count": 16,
   "metadata": {},
   "outputs": [
    {
     "data": {
      "text/plain": [
       "[0.0, 0.022, 0.044, 0.067, 0.089, 0.111, 0.133, 0.156, 0.178, 0.2]"
      ]
     },
     "execution_count": 16,
     "metadata": {},
     "output_type": "execute_result"
    }
   ],
   "source": [
    "#3.3 Create another function which builds on the previous one by allowing\n",
    "# a \"user\" pass in an argument that defines the number of decimal places to use in the output list.\n",
    "def define_decimals(input_list,decimals):\n",
    "    result = [round(ele,decimals) for ele in input_list]\n",
    "    return result\n",
    "define_decimals(fraction_list(my_list),3)"
   ]
  },
  {
   "cell_type": "code",
   "execution_count": 17,
   "metadata": {},
   "outputs": [
    {
     "name": "stdout",
     "output_type": "stream",
     "text": [
      "3.1 [0.0, 0.03571428571428571, 0.07142857142857142, 0.10714285714285714, 0.14285714285714285, 0.17857142857142858, 0.21428571428571427, 0.25]\n",
      "3.2 [0.0, 0.04, 0.07, 0.11, 0.14, 0.18, 0.21, 0.25]\n",
      "3.3 [0.0, 0.036, 0.071, 0.107, 0.143, 0.179, 0.214, 0.25]\n"
     ]
    }
   ],
   "source": [
    "#3.4 Test each of these functions with a list of integers\n",
    "\n",
    "print(\"3.1\",fraction_list(test))\n",
    "print(\"3.2\",frac_list(test))\n",
    "print(\"3.3\",define_decimals(fraction_list(test),3))"
   ]
  },
  {
   "cell_type": "markdown",
   "metadata": {},
   "source": [
    "## Problem 4\n",
    "A prime number is any whole number greater than 1 that has no positive divisors besides 1 and itself. In other words, a prime number must be:\n",
    "1. an integer\n",
    "2. greater than 1\n",
    "3. divisible only by 1 and itself.\n",
    "\n",
    "Write a function is_prime(n) that accepts an argument `n` and returns `True` (boolean) if `n` is a prime number and `False` if n is not prime. For example, `is_prime(11)` should return `True` and `is_prime(12)` should return `False`.\n"
   ]
  },
  {
   "cell_type": "code",
   "execution_count": 26,
   "metadata": {},
   "outputs": [
    {
     "data": {
      "text/plain": [
       "False"
      ]
     },
     "execution_count": 26,
     "metadata": {},
     "output_type": "execute_result"
    }
   ],
   "source": [
    "def is_prime(n):\n",
    "    if isinstance(n,int):\n",
    "        if n <= 1:\n",
    "            return False\n",
    "        else: \n",
    "            for i in range (2,n):\n",
    "                if n % i == 0:\n",
    "                    return False\n",
    "                else:\n",
    "                    return True\n",
    "    else:\n",
    "        return False\n",
    "\n",
    "is_prime(10)"
   ]
  },
  {
   "cell_type": "markdown",
   "metadata": {},
   "source": [
    "## Problem 5"
   ]
  },
  {
   "cell_type": "markdown",
   "metadata": {},
   "source": [
    "1. Create a class called `Housing`, and add the following attributes to it:\n",
    "  - type\n",
    "  - area\n",
    "  - number of bedrooms\n",
    "  - value (price)\n",
    "  - year built.\n",
    "2. Create two instances of your class and populate their attributes (make 'em up)\n",
    "3. Create a method called `rent()` that calculates the estimated monthly rent for each house (assume that monthly rent is 0.4% of the value of the house)\n",
    "4. Print the rent for both instances."
   ]
  },
  {
   "cell_type": "code",
   "execution_count": 27,
   "metadata": {},
   "outputs": [],
   "source": [
    "#5.1\n",
    "class Housing:\n",
    "\n",
    "    def __init__(self, type, area, number_bedrooms,value,year_built):\n",
    "        self.type = type\n",
    "        self.area = area\n",
    "        self.number_bedrooms = number_bedrooms\n",
    "        self.value = value\n",
    "        self.year_built = year_built\n"
   ]
  },
  {
   "cell_type": "code",
   "execution_count": 28,
   "metadata": {},
   "outputs": [],
   "source": [
    "#5.2\n",
    "house_1 = Housing(\"house\",1500,3,300000,1)\n",
    "house_2 = Housing(\"house\",2500,5,600000,2)"
   ]
  },
  {
   "cell_type": "code",
   "execution_count": 33,
   "metadata": {},
   "outputs": [],
   "source": [
    "#5.3\n",
    "class Housing:\n",
    "\n",
    "    def __init__(self, type, area, number_bedrooms,value,year_built):\n",
    "        self.type = type\n",
    "        self.area = area\n",
    "        self.number_bedrooms = number_bedrooms\n",
    "        self.value = value\n",
    "        self.year_built = year_built\n",
    "    \n",
    "    def rent(self):\n",
    "        return self.value * 0.004\n"
   ]
  },
  {
   "cell_type": "code",
   "execution_count": 34,
   "metadata": {},
   "outputs": [
    {
     "name": "stdout",
     "output_type": "stream",
     "text": [
      "1200.0\n",
      "2400.0\n"
     ]
    }
   ],
   "source": [
    "#5.4\n",
    "house_1 = Housing(\"house\",1500,3,300000,1)\n",
    "house_2 = Housing(\"house\",2500,5,600000,2)\n",
    "\n",
    "print(house_1.rent())\n",
    "print(house_2.rent())"
   ]
  },
  {
   "cell_type": "code",
   "execution_count": null,
   "metadata": {},
   "outputs": [],
   "source": []
  }
 ],
 "metadata": {
  "kernelspec": {
   "display_name": "Python 3",
   "language": "python",
   "name": "python3"
  },
  "language_info": {
   "codemirror_mode": {
    "name": "ipython",
    "version": 3
   },
   "file_extension": ".py",
   "mimetype": "text/x-python",
   "name": "python",
   "nbconvert_exporter": "python",
   "pygments_lexer": "ipython3",
   "version": "3.7.6"
  },
  "toc": {
   "base_numbering": 1,
   "nav_menu": {},
   "number_sections": false,
   "sideBar": false,
   "skip_h1_title": true,
   "title_cell": "Table of Contents",
   "title_sidebar": "Contents",
   "toc_cell": false,
   "toc_position": {},
   "toc_section_display": true,
   "toc_window_display": false
  }
 },
 "nbformat": 4,
 "nbformat_minor": 5
}
